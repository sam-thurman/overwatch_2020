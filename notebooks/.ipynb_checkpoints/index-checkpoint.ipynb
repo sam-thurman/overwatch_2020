{
 "cells": [
  {
   "cell_type": "code",
   "execution_count": 1,
   "metadata": {},
   "outputs": [
    {
     "name": "stderr",
     "output_type": "stream",
     "text": [
      "/Users/sam/opt/anaconda3/envs/learn-env/lib/python3.6/site-packages/statsmodels/tools/_testing.py:19: FutureWarning: pandas.util.testing is deprecated. Use the functions in the public API at pandas.testing instead.\n",
      "  import pandas.util.testing as tm\n"
     ]
    }
   ],
   "source": [
    "import pandas as pd\n",
    "import numpy as np\n",
    "import matplotlib.pyplot as plt\n",
    "import seaborn as sns"
   ]
  },
  {
   "cell_type": "code",
   "execution_count": 33,
   "metadata": {},
   "outputs": [],
   "source": [
    "df1 = pd.read_csv('../data/phs_2020_1.csv')\n",
    "df1['start_time'] = pd.to_datetime(df1['start_time'])\n",
    "# df2 = pd.read_csv('../data/phs_2020_2.csv')"
   ]
  },
  {
   "cell_type": "code",
   "execution_count": 34,
   "metadata": {},
   "outputs": [
    {
     "data": {
      "text/html": [
       "<div>\n",
       "<style scoped>\n",
       "    .dataframe tbody tr th:only-of-type {\n",
       "        vertical-align: middle;\n",
       "    }\n",
       "\n",
       "    .dataframe tbody tr th {\n",
       "        vertical-align: top;\n",
       "    }\n",
       "\n",
       "    .dataframe thead th {\n",
       "        text-align: right;\n",
       "    }\n",
       "</style>\n",
       "<table border=\"1\" class=\"dataframe\">\n",
       "  <thead>\n",
       "    <tr style=\"text-align: right;\">\n",
       "      <th></th>\n",
       "      <th>start_time</th>\n",
       "      <th>esports_match_id</th>\n",
       "      <th>tournament_title</th>\n",
       "      <th>map_type</th>\n",
       "      <th>map_name</th>\n",
       "      <th>player_name</th>\n",
       "      <th>team_name</th>\n",
       "      <th>stat_name</th>\n",
       "      <th>hero_name</th>\n",
       "      <th>stat_amount</th>\n",
       "    </tr>\n",
       "  </thead>\n",
       "  <tbody>\n",
       "    <tr>\n",
       "      <th>0</th>\n",
       "      <td>2020-02-08 18:13:00</td>\n",
       "      <td>30991</td>\n",
       "      <td>OWL 2020 Regular Season</td>\n",
       "      <td>CONTROL</td>\n",
       "      <td>Lijiang Tower</td>\n",
       "      <td>BenBest</td>\n",
       "      <td>Paris Eternal</td>\n",
       "      <td>All Damage Done</td>\n",
       "      <td>All Heroes</td>\n",
       "      <td>6674.164055</td>\n",
       "    </tr>\n",
       "    <tr>\n",
       "      <th>1</th>\n",
       "      <td>2020-02-08 18:13:00</td>\n",
       "      <td>30991</td>\n",
       "      <td>OWL 2020 Regular Season</td>\n",
       "      <td>CONTROL</td>\n",
       "      <td>Lijiang Tower</td>\n",
       "      <td>BenBest</td>\n",
       "      <td>Paris Eternal</td>\n",
       "      <td>Assists</td>\n",
       "      <td>All Heroes</td>\n",
       "      <td>11.000000</td>\n",
       "    </tr>\n",
       "    <tr>\n",
       "      <th>2</th>\n",
       "      <td>2020-02-08 18:13:00</td>\n",
       "      <td>30991</td>\n",
       "      <td>OWL 2020 Regular Season</td>\n",
       "      <td>CONTROL</td>\n",
       "      <td>Lijiang Tower</td>\n",
       "      <td>BenBest</td>\n",
       "      <td>Paris Eternal</td>\n",
       "      <td>Average Time Alive</td>\n",
       "      <td>All Heroes</td>\n",
       "      <td>60.199502</td>\n",
       "    </tr>\n",
       "    <tr>\n",
       "      <th>3</th>\n",
       "      <td>2020-02-08 18:13:00</td>\n",
       "      <td>30991</td>\n",
       "      <td>OWL 2020 Regular Season</td>\n",
       "      <td>CONTROL</td>\n",
       "      <td>Lijiang Tower</td>\n",
       "      <td>BenBest</td>\n",
       "      <td>Paris Eternal</td>\n",
       "      <td>Barrier Damage Done</td>\n",
       "      <td>All Heroes</td>\n",
       "      <td>1875.000000</td>\n",
       "    </tr>\n",
       "    <tr>\n",
       "      <th>4</th>\n",
       "      <td>2020-02-08 18:13:00</td>\n",
       "      <td>30991</td>\n",
       "      <td>OWL 2020 Regular Season</td>\n",
       "      <td>CONTROL</td>\n",
       "      <td>Lijiang Tower</td>\n",
       "      <td>BenBest</td>\n",
       "      <td>Paris Eternal</td>\n",
       "      <td>Damage Blocked</td>\n",
       "      <td>All Heroes</td>\n",
       "      <td>14640.911780</td>\n",
       "    </tr>\n",
       "  </tbody>\n",
       "</table>\n",
       "</div>"
      ],
      "text/plain": [
       "           start_time  esports_match_id         tournament_title map_type  \\\n",
       "0 2020-02-08 18:13:00             30991  OWL 2020 Regular Season  CONTROL   \n",
       "1 2020-02-08 18:13:00             30991  OWL 2020 Regular Season  CONTROL   \n",
       "2 2020-02-08 18:13:00             30991  OWL 2020 Regular Season  CONTROL   \n",
       "3 2020-02-08 18:13:00             30991  OWL 2020 Regular Season  CONTROL   \n",
       "4 2020-02-08 18:13:00             30991  OWL 2020 Regular Season  CONTROL   \n",
       "\n",
       "        map_name player_name      team_name            stat_name   hero_name  \\\n",
       "0  Lijiang Tower     BenBest  Paris Eternal      All Damage Done  All Heroes   \n",
       "1  Lijiang Tower     BenBest  Paris Eternal              Assists  All Heroes   \n",
       "2  Lijiang Tower     BenBest  Paris Eternal   Average Time Alive  All Heroes   \n",
       "3  Lijiang Tower     BenBest  Paris Eternal  Barrier Damage Done  All Heroes   \n",
       "4  Lijiang Tower     BenBest  Paris Eternal       Damage Blocked  All Heroes   \n",
       "\n",
       "    stat_amount  \n",
       "0   6674.164055  \n",
       "1     11.000000  \n",
       "2     60.199502  \n",
       "3   1875.000000  \n",
       "4  14640.911780  "
      ]
     },
     "execution_count": 34,
     "metadata": {},
     "output_type": "execute_result"
    }
   ],
   "source": [
    "df1.head()"
   ]
  },
  {
   "cell_type": "code",
   "execution_count": 35,
   "metadata": {},
   "outputs": [],
   "source": [
    "players = set(df1['player_name'].values)\n"
   ]
  },
  {
   "cell_type": "code",
   "execution_count": 37,
   "metadata": {},
   "outputs": [
    {
     "name": "stderr",
     "output_type": "stream",
     "text": [
      "/Users/sam/opt/anaconda3/envs/learn-env/lib/python3.6/site-packages/ipykernel_launcher.py:3: UserWarning: Boolean Series key will be reindexed to match DataFrame index.\n",
      "  This is separate from the ipykernel package so we can avoid doing imports until\n"
     ]
    }
   ],
   "source": [
    "player_avg_hero_damage = []\n",
    "for p in players:\n",
    "    val = df1[df1['player_name']==p][df1['hero_name']=='All Heroes'][df1['stat_name']=='Hero Damage Done']['stat_amount'].mean()\n",
    "    player_avg_hero_damage.append((p, val))\n"
   ]
  },
  {
   "cell_type": "markdown",
   "metadata": {},
   "source": [
    "### Top 5 Players: most hero damage done"
   ]
  },
  {
   "cell_type": "code",
   "execution_count": 44,
   "metadata": {},
   "outputs": [
    {
     "data": {
      "text/plain": [
       "[('ILLICIT', 13276.632435),\n",
       " ('SharP', 12469.343982555554),\n",
       " ('DDing', 11884.528273499998),\n",
       " ('KSP', 11629.692262409091),\n",
       " ('SP9RK1E', 11320.862475071432)]"
      ]
     },
     "execution_count": 44,
     "metadata": {},
     "output_type": "execute_result"
    }
   ],
   "source": [
    "sorted(player_avg_hero_damage,key=lambda x: x[1], reverse=True)[:5]"
   ]
  },
  {
   "cell_type": "code",
   "execution_count": null,
   "metadata": {},
   "outputs": [],
   "source": []
  }
 ],
 "metadata": {
  "kernelspec": {
   "display_name": "Python [conda env:learn-env] *",
   "language": "python",
   "name": "conda-env-learn-env-py"
  },
  "language_info": {
   "codemirror_mode": {
    "name": "ipython",
    "version": 3
   },
   "file_extension": ".py",
   "mimetype": "text/x-python",
   "name": "python",
   "nbconvert_exporter": "python",
   "pygments_lexer": "ipython3",
   "version": "3.6.9"
  }
 },
 "nbformat": 4,
 "nbformat_minor": 4
}
