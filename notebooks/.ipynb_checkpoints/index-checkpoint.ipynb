{
 "cells": [
  {
   "cell_type": "code",
   "execution_count": 1,
   "metadata": {},
   "outputs": [
    {
     "name": "stderr",
     "output_type": "stream",
     "text": [
      "/Users/sam/opt/anaconda3/envs/learn-env/lib/python3.6/site-packages/statsmodels/tools/_testing.py:19: FutureWarning: pandas.util.testing is deprecated. Use the functions in the public API at pandas.testing instead.\n",
      "  import pandas.util.testing as tm\n"
     ]
    }
   ],
   "source": [
    "import pandas as pd\n",
    "import numpy as np\n",
    "import matplotlib.pyplot as plt\n",
    "import seaborn as sns"
   ]
  },
  {
   "cell_type": "code",
   "execution_count": 13,
   "metadata": {},
   "outputs": [],
   "source": [
    "df1 = pd.read_csv('../data/phs_2020_1.csv')\n",
    "df1['start_time'] = pd.to_datetime(df1['start_time'])\n",
    "df2 = pd.read_csv('../data/phs_2020_2.csv')\n",
    "df2['start_time'] = pd.to_datetime(df2['start_time'])"
   ]
  },
  {
   "cell_type": "code",
   "execution_count": 44,
   "metadata": {},
   "outputs": [
    {
     "name": "stdout",
     "output_type": "stream",
     "text": [
      "(760111, 10)\n",
      "(405287, 10)\n",
      "(1159495, 10)\n"
     ]
    }
   ],
   "source": [
    "df = pd.concat([df1,df2], axis=0).reset_index().drop('index',axis=1)\n",
    "df = df.dropna()\n",
    "print(df1.shape)\n",
    "print(df2.shape)\n",
    "print(df.shape)"
   ]
  },
  {
   "cell_type": "code",
   "execution_count": 85,
   "metadata": {},
   "outputs": [
    {
     "data": {
      "text/html": [
       "<div>\n",
       "<style scoped>\n",
       "    .dataframe tbody tr th:only-of-type {\n",
       "        vertical-align: middle;\n",
       "    }\n",
       "\n",
       "    .dataframe tbody tr th {\n",
       "        vertical-align: top;\n",
       "    }\n",
       "\n",
       "    .dataframe thead th {\n",
       "        text-align: right;\n",
       "    }\n",
       "</style>\n",
       "<table border=\"1\" class=\"dataframe\">\n",
       "  <thead>\n",
       "    <tr style=\"text-align: right;\">\n",
       "      <th></th>\n",
       "      <th>start_time</th>\n",
       "      <th>esports_match_id</th>\n",
       "      <th>tournament_title</th>\n",
       "      <th>map_type</th>\n",
       "      <th>map_name</th>\n",
       "      <th>player_name</th>\n",
       "      <th>team_name</th>\n",
       "      <th>stat_name</th>\n",
       "      <th>hero_name</th>\n",
       "      <th>stat_amount</th>\n",
       "    </tr>\n",
       "  </thead>\n",
       "  <tbody>\n",
       "    <tr>\n",
       "      <th>1165391</th>\n",
       "      <td>2020-09-07 00:59:36</td>\n",
       "      <td>35548</td>\n",
       "      <td>OWL 2020 Regular Season</td>\n",
       "      <td>PAYLOAD</td>\n",
       "      <td>Havana</td>\n",
       "      <td>super</td>\n",
       "      <td>San Francisco Shock</td>\n",
       "      <td>Time Building Ultimate</td>\n",
       "      <td>Wrecking Ball</td>\n",
       "      <td>32.693001</td>\n",
       "    </tr>\n",
       "    <tr>\n",
       "      <th>1165392</th>\n",
       "      <td>2020-09-07 00:59:36</td>\n",
       "      <td>35548</td>\n",
       "      <td>OWL 2020 Regular Season</td>\n",
       "      <td>PAYLOAD</td>\n",
       "      <td>Havana</td>\n",
       "      <td>super</td>\n",
       "      <td>San Francisco Shock</td>\n",
       "      <td>Time Elapsed per Ultimate Earned</td>\n",
       "      <td>Wrecking Ball</td>\n",
       "      <td>92.853725</td>\n",
       "    </tr>\n",
       "    <tr>\n",
       "      <th>1165393</th>\n",
       "      <td>2020-09-07 00:59:36</td>\n",
       "      <td>35548</td>\n",
       "      <td>OWL 2020 Regular Season</td>\n",
       "      <td>PAYLOAD</td>\n",
       "      <td>Havana</td>\n",
       "      <td>super</td>\n",
       "      <td>San Francisco Shock</td>\n",
       "      <td>Time Played</td>\n",
       "      <td>Wrecking Ball</td>\n",
       "      <td>33.100008</td>\n",
       "    </tr>\n",
       "    <tr>\n",
       "      <th>1165394</th>\n",
       "      <td>2020-09-07 00:59:36</td>\n",
       "      <td>35548</td>\n",
       "      <td>OWL 2020 Regular Season</td>\n",
       "      <td>PAYLOAD</td>\n",
       "      <td>Havana</td>\n",
       "      <td>super</td>\n",
       "      <td>San Francisco Shock</td>\n",
       "      <td>Ultimates Earned - Fractional</td>\n",
       "      <td>Wrecking Ball</td>\n",
       "      <td>0.352091</td>\n",
       "    </tr>\n",
       "    <tr>\n",
       "      <th>1165395</th>\n",
       "      <td>2020-09-07 00:59:36</td>\n",
       "      <td>35548</td>\n",
       "      <td>OWL 2020 Regular Season</td>\n",
       "      <td>PAYLOAD</td>\n",
       "      <td>Havana</td>\n",
       "      <td>super</td>\n",
       "      <td>San Francisco Shock</td>\n",
       "      <td>Weapon Accuracy</td>\n",
       "      <td>Wrecking Ball</td>\n",
       "      <td>0.415929</td>\n",
       "    </tr>\n",
       "  </tbody>\n",
       "</table>\n",
       "</div>"
      ],
      "text/plain": [
       "                 start_time  esports_match_id         tournament_title  \\\n",
       "1165391 2020-09-07 00:59:36             35548  OWL 2020 Regular Season   \n",
       "1165392 2020-09-07 00:59:36             35548  OWL 2020 Regular Season   \n",
       "1165393 2020-09-07 00:59:36             35548  OWL 2020 Regular Season   \n",
       "1165394 2020-09-07 00:59:36             35548  OWL 2020 Regular Season   \n",
       "1165395 2020-09-07 00:59:36             35548  OWL 2020 Regular Season   \n",
       "\n",
       "        map_type map_name player_name            team_name  \\\n",
       "1165391  PAYLOAD   Havana       super  San Francisco Shock   \n",
       "1165392  PAYLOAD   Havana       super  San Francisco Shock   \n",
       "1165393  PAYLOAD   Havana       super  San Francisco Shock   \n",
       "1165394  PAYLOAD   Havana       super  San Francisco Shock   \n",
       "1165395  PAYLOAD   Havana       super  San Francisco Shock   \n",
       "\n",
       "                                stat_name      hero_name  stat_amount  \n",
       "1165391            Time Building Ultimate  Wrecking Ball    32.693001  \n",
       "1165392  Time Elapsed per Ultimate Earned  Wrecking Ball    92.853725  \n",
       "1165393                       Time Played  Wrecking Ball    33.100008  \n",
       "1165394     Ultimates Earned - Fractional  Wrecking Ball     0.352091  \n",
       "1165395                   Weapon Accuracy  Wrecking Ball     0.415929  "
      ]
     },
     "execution_count": 85,
     "metadata": {},
     "output_type": "execute_result"
    }
   ],
   "source": [
    "df.tail()"
   ]
  },
  {
   "cell_type": "code",
   "execution_count": 91,
   "metadata": {},
   "outputs": [
    {
     "name": "stdout",
     "output_type": "stream",
     "text": [
      "282\n"
     ]
    }
   ],
   "source": [
    "matches = df.esports_match_id.drop_duplicates()\n",
    "print(len(matches))"
   ]
  },
  {
   "cell_type": "code",
   "execution_count": 84,
   "metadata": {},
   "outputs": [
    {
     "name": "stdout",
     "output_type": "stream",
     "text": [
      "['Time Alive', 'Time Building Ultimate', 'Time Played', 'Time Elapsed per Ultimate Earned', 'Ultimates Earned - Fractional', 'Average Time Alive', 'Damage Taken', 'All Damage Done', 'Hero Damage Done', 'Barrier Damage Done', 'Objective Time', 'Deaths', 'Eliminations', 'Time Holding Ultimate', 'Assists', 'Ultimates Used', 'Final Blows', 'Objective Kills', 'Shots Fired', 'Weapon Accuracy', 'Healing Received', 'Damage - Quick Melee', 'Quick Melee Ticks', 'Shots Missed', 'Offensive Assists', 'Shots Hit', 'Damage Blocked', 'Healing Done', 'Damage Done', 'Damage - Weapon', 'Critical Hit Accuracy', 'Critical Hits', 'Defensive Assists', 'Quick Melee Hits', 'Quick Melee Accuracy', 'Knockback Kills']\n"
     ]
    }
   ],
   "source": [
    "stat_names = [b for (a, b) in zip(df.stat_name.value_counts(), df.stat_name.value_counts().index) if a>10000]\n",
    "print(stat_names)"
   ]
  },
  {
   "cell_type": "code",
   "execution_count": 92,
   "metadata": {},
   "outputs": [
    {
     "data": {
      "text/plain": [
       "True"
      ]
     },
     "execution_count": 92,
     "metadata": {},
     "output_type": "execute_result"
    }
   ],
   "source": [
    "'Weapon Accuracy' in stat_names"
   ]
  },
  {
   "cell_type": "markdown",
   "metadata": {},
   "source": [
    "# Top 5s"
   ]
  },
  {
   "cell_type": "code",
   "execution_count": 31,
   "metadata": {},
   "outputs": [
    {
     "data": {
      "text/plain": [
       "213"
      ]
     },
     "execution_count": 31,
     "metadata": {},
     "output_type": "execute_result"
    }
   ],
   "source": [
    "players = set(df['player_name'].values)\n",
    "len(players)"
   ]
  },
  {
   "cell_type": "markdown",
   "metadata": {},
   "source": [
    "### Top 5 Players: most hero damage done"
   ]
  },
  {
   "cell_type": "code",
   "execution_count": 40,
   "metadata": {},
   "outputs": [
    {
     "name": "stderr",
     "output_type": "stream",
     "text": [
      "/Users/sam/opt/anaconda3/envs/learn-env/lib/python3.6/site-packages/ipykernel_launcher.py:5: UserWarning: Boolean Series key will be reindexed to match DataFrame index.\n",
      "  \"\"\"\n"
     ]
    },
    {
     "name": "stdout",
     "output_type": "stream",
     "text": [
      "10.0%\n",
      "20.0%\n",
      "30.0%\n",
      "40.0%\n",
      "50.0%\n",
      "60.0%\n",
      "70.0%\n",
      "80.0%\n",
      "90.0%\n",
      "100.0%\n"
     ]
    }
   ],
   "source": [
    "player_avg_hero_damage = []\n",
    "c = 0\n",
    "for p in players:\n",
    "    c += 1\n",
    "    val = df[df['player_name']==p][df['hero_name']=='All Heroes'][df['stat_name']=='Hero Damage Done']['stat_amount'].mean()\n",
    "    player_avg_hero_damage.append((p, val))\n",
    "    if c%21==0:\n",
    "        print(f'{c/2.1}%')\n"
   ]
  },
  {
   "cell_type": "code",
   "execution_count": 41,
   "metadata": {},
   "outputs": [
    {
     "data": {
      "text/plain": [
       "[('DDing', 11884.528273499998),\n",
       " ('KSP', 11548.863929125986),\n",
       " ('SharP', 11432.725905859705),\n",
       " ('Corey', 11060.774020275),\n",
       " ('Decay', 11053.142906599609)]"
      ]
     },
     "execution_count": 41,
     "metadata": {},
     "output_type": "execute_result"
    }
   ],
   "source": [
    "sorted(player_avg_hero_damage,key=lambda x: x[1], reverse=True)[:5]"
   ]
  },
  {
   "cell_type": "markdown",
   "metadata": {},
   "source": [
    "### Top 5 Players: final blows"
   ]
  },
  {
   "cell_type": "code",
   "execution_count": 51,
   "metadata": {},
   "outputs": [
    {
     "name": "stderr",
     "output_type": "stream",
     "text": [
      "/Users/sam/opt/anaconda3/envs/learn-env/lib/python3.6/site-packages/ipykernel_launcher.py:5: UserWarning: Boolean Series key will be reindexed to match DataFrame index.\n",
      "  \"\"\"\n"
     ]
    },
    {
     "name": "stdout",
     "output_type": "stream",
     "text": [
      "10.0%\n",
      "20.0%\n",
      "30.0%\n",
      "40.0%\n",
      "50.0%\n",
      "60.0%\n",
      "70.0%\n",
      "80.0%\n",
      "90.0%\n",
      "100.0%\n"
     ]
    }
   ],
   "source": [
    "player_avg_final_blows = []\n",
    "c = 0\n",
    "for p in players:\n",
    "    c += 1\n",
    "    val = df[df['player_name']==p][df['hero_name']=='All Heroes'][df['stat_name']=='Final Blows']['stat_amount'].mean()\n",
    "    player_avg_final_blows.append((p, val))\n",
    "    if c%21==0:\n",
    "        print(f'{c/2.1}%')"
   ]
  },
  {
   "cell_type": "code",
   "execution_count": 52,
   "metadata": {},
   "outputs": [
    {
     "data": {
      "text/plain": [
       "[('ChipSa', 13.0),\n",
       " ('DDing', 12.7),\n",
       " ('carpe', 11.824175824175825),\n",
       " ('SP9RK1E', 11.64406779661017),\n",
       " ('Xzi', 11.526315789473685)]"
      ]
     },
     "execution_count": 52,
     "metadata": {},
     "output_type": "execute_result"
    }
   ],
   "source": [
    "sorted(player_avg_final_blows,key=lambda x: x[1], reverse=True)[:5]"
   ]
  },
  {
   "cell_type": "markdown",
   "metadata": {},
   "source": [
    "### Top 5 Players: most accurate"
   ]
  },
  {
   "cell_type": "code",
   "execution_count": 53,
   "metadata": {},
   "outputs": [
    {
     "name": "stderr",
     "output_type": "stream",
     "text": [
      "/Users/sam/opt/anaconda3/envs/learn-env/lib/python3.6/site-packages/ipykernel_launcher.py:5: UserWarning: Boolean Series key will be reindexed to match DataFrame index.\n",
      "  \"\"\"\n"
     ]
    },
    {
     "name": "stdout",
     "output_type": "stream",
     "text": [
      "10.0%\n",
      "20.0%\n",
      "30.0%\n",
      "40.0%\n",
      "50.0%\n",
      "60.0%\n",
      "70.0%\n",
      "80.0%\n",
      "90.0%\n",
      "100.0%\n"
     ]
    }
   ],
   "source": [
    "player_avg_accuracy = []\n",
    "c = 0\n",
    "for p in players:\n",
    "    c += 1\n",
    "    val = df[df['player_name']==p][df['hero_name']=='All Heroes'][df['stat_name']=='Weapon Accuracy']['stat_amount'].mean()\n",
    "    player_avg_accuracy.append((p, val))\n",
    "    if c%21==0:\n",
    "        print(f'{c/2.1}%')"
   ]
  },
  {
   "cell_type": "code",
   "execution_count": 54,
   "metadata": {},
   "outputs": [
    {
     "data": {
      "text/plain": [
       "[('Trill', 0.519444444),\n",
       " ('Xzi', 0.4516963208633281),\n",
       " ('ANS', 0.4231224212383955),\n",
       " ('SAEBYEOLBE', 0.41742642335805596),\n",
       " ('bqb', 0.41507824628923323)]"
      ]
     },
     "execution_count": 54,
     "metadata": {},
     "output_type": "execute_result"
    }
   ],
   "source": [
    "sorted(player_avg_accuracy,key=lambda x: x[1], reverse=True)[:5]"
   ]
  },
  {
   "cell_type": "code",
   "execution_count": null,
   "metadata": {},
   "outputs": [],
   "source": []
  }
 ],
 "metadata": {
  "kernelspec": {
   "display_name": "Python [conda env:learn-env] *",
   "language": "python",
   "name": "conda-env-learn-env-py"
  },
  "language_info": {
   "codemirror_mode": {
    "name": "ipython",
    "version": 3
   },
   "file_extension": ".py",
   "mimetype": "text/x-python",
   "name": "python",
   "nbconvert_exporter": "python",
   "pygments_lexer": "ipython3",
   "version": "3.6.9"
  }
 },
 "nbformat": 4,
 "nbformat_minor": 4
}
